{
 "cells": [
  {
   "cell_type": "code",
   "execution_count": 1,
   "id": "45f0cf21",
   "metadata": {},
   "outputs": [],
   "source": [
    "from ase.io import vasp\n",
    "#import pandas as pd\n",
    "import re\n",
    "import numpy as np"
   ]
  },
  {
   "cell_type": "code",
   "execution_count": 2,
   "id": "f1b880a9",
   "metadata": {},
   "outputs": [],
   "source": [
    "dataset = np.load('../training-data/all_data.npy')\n",
    "response0 = dataset[:,0]"
   ]
  },
  {
   "cell_type": "code",
   "execution_count": 3,
   "id": "62431867",
   "metadata": {},
   "outputs": [],
   "source": [
    "path = '../adaptive-simulation-data/eval_23nov2021'"
   ]
  },
  {
   "cell_type": "code",
   "execution_count": 4,
   "id": "fdebf83b",
   "metadata": {},
   "outputs": [
    {
     "name": "stdout",
     "output_type": "stream",
     "text": [
      "../adaptive-simulation-data/eval_23nov2021/00024435/OUTCAR\n",
      "['-2320.44110411']\n",
      "../adaptive-simulation-data/eval_23nov2021/00020469/OUTCAR\n",
      "['-2320.32348661']\n",
      "../adaptive-simulation-data/eval_23nov2021/00025124/OUTCAR\n",
      "['-2320.35389261']\n",
      "../adaptive-simulation-data/eval_23nov2021/00025584/OUTCAR\n",
      "['-2320.28873733']\n",
      "../adaptive-simulation-data/eval_23nov2021/00028257/OUTCAR\n",
      "['-2319.92905562']\n",
      "../adaptive-simulation-data/eval_23nov2021/00022594/OUTCAR\n",
      "['-2320.40265503']\n",
      "../adaptive-simulation-data/eval_23nov2021/00025402/OUTCAR\n",
      "['-2320.34749842']\n",
      "../adaptive-simulation-data/eval_23nov2021/00027930/OUTCAR\n",
      "['-2320.25797940']\n",
      "../adaptive-simulation-data/eval_23nov2021/00027753/OUTCAR\n",
      "['-2320.60402779']\n",
      "../adaptive-simulation-data/eval_23nov2021/00023363/OUTCAR\n",
      "['-2320.61608919']\n",
      "../adaptive-simulation-data/eval_23nov2021/00021059/OUTCAR\n",
      "['-2320.35357674']\n",
      "../adaptive-simulation-data/eval_23nov2021/00028722/OUTCAR\n",
      "['-2320.25954593']\n",
      "../adaptive-simulation-data/eval_23nov2021/00023561/OUTCAR\n",
      "['-2320.49154222']\n",
      "../adaptive-simulation-data/eval_23nov2021/00025676/OUTCAR\n",
      "['-2320.38779623']\n",
      "../adaptive-simulation-data/eval_23nov2021/00026127/OUTCAR\n",
      "['-2320.06190695']\n",
      "../adaptive-simulation-data/eval_23nov2021/00022914/OUTCAR\n",
      "['-2320.26777207']\n",
      "../adaptive-simulation-data/eval_23nov2021/00029167/OUTCAR\n",
      "['-2320.40006757']\n",
      "../adaptive-simulation-data/eval_23nov2021/00026128/OUTCAR\n",
      "['-2320.47979820']\n",
      "../adaptive-simulation-data/eval_23nov2021/00029753/OUTCAR\n",
      "['-2320.39324853']\n",
      "../adaptive-simulation-data/eval_23nov2021/00026971/OUTCAR\n",
      "['-2320.31069299']\n",
      "../adaptive-simulation-data/eval_23nov2021/00023052/OUTCAR\n",
      "['-2319.77846266']\n",
      "../adaptive-simulation-data/eval_23nov2021/00025924/OUTCAR\n",
      "['-2320.35799212']\n",
      "../adaptive-simulation-data/eval_23nov2021/00029373/OUTCAR\n",
      "['-2320.15230991']\n",
      "../adaptive-simulation-data/eval_23nov2021/00020007/OUTCAR\n",
      "['-2320.45775745']\n",
      "../adaptive-simulation-data/eval_23nov2021/00029744/OUTCAR\n",
      "['-2320.02484332']\n",
      "../adaptive-simulation-data/eval_23nov2021/00027678/OUTCAR\n",
      "['-2477.01469635']\n",
      "../adaptive-simulation-data/eval_23nov2021/00022304/OUTCAR\n",
      "['-2320.35080399']\n",
      "../adaptive-simulation-data/eval_23nov2021/00021377/OUTCAR\n",
      "['-2320.51572109']\n",
      "../adaptive-simulation-data/eval_23nov2021/00028458/OUTCAR\n",
      "['-2320.30030398']\n",
      "../adaptive-simulation-data/eval_23nov2021/00022961/OUTCAR\n",
      "['-2319.82696634']\n",
      "../adaptive-simulation-data/eval_23nov2021/00028697/OUTCAR\n",
      "['-2314.32975870']\n",
      "../adaptive-simulation-data/eval_23nov2021/00024723/OUTCAR\n",
      "['-2320.29573341']\n",
      "../adaptive-simulation-data/eval_23nov2021/00026410/OUTCAR\n",
      "['-2320.53327996']\n",
      "../adaptive-simulation-data/eval_23nov2021/00028920/OUTCAR\n",
      "['-2318.89630389']\n",
      "../adaptive-simulation-data/eval_23nov2021/00026434/OUTCAR\n",
      "['-2320.42440667']\n",
      "../adaptive-simulation-data/eval_23nov2021/00027386/OUTCAR\n",
      "['-2320.23259837']\n",
      "../adaptive-simulation-data/eval_23nov2021/00027577/OUTCAR\n",
      "['-2319.99931170']\n",
      "../adaptive-simulation-data/eval_23nov2021/00025288/OUTCAR\n",
      "['-2320.55199482']\n",
      "../adaptive-simulation-data/eval_23nov2021/00021482/OUTCAR\n",
      "['-2320.48959416']\n",
      "../adaptive-simulation-data/eval_23nov2021/00027638/OUTCAR\n",
      "['-2320.28984700']\n",
      "../adaptive-simulation-data/eval_23nov2021/00028882/OUTCAR\n",
      "['-2320.12527807']\n",
      "../adaptive-simulation-data/eval_23nov2021/00029537/OUTCAR\n",
      "['-2320.13620714']\n",
      "../adaptive-simulation-data/eval_23nov2021/00020244/OUTCAR\n",
      "['-2320.31740247']\n",
      "../adaptive-simulation-data/eval_23nov2021/00022123/OUTCAR\n",
      "['-2320.16029168']\n",
      "../adaptive-simulation-data/eval_23nov2021/00021752/OUTCAR\n",
      "['-2320.20266924']\n",
      "../adaptive-simulation-data/eval_23nov2021/00028426/OUTCAR\n",
      "['-2320.26669831']\n"
     ]
    }
   ],
   "source": [
    "response = []\n",
    "import glob, os\n",
    "#os.chdir(path)\n",
    "for fname in glob.glob(path+\"/*/OUTCAR\"):\n",
    "    print(fname)\n",
    "    last_match = None\n",
    "    for line in open(fname):\n",
    "        match = re.findall('energy  without entropy=    ([-+]?\\d*\\.\\d+|\\d+)', line)\n",
    "        if match:\n",
    "            last_match = match    \n",
    "    print(last_match)\n",
    "    response.append(float(last_match[0]))"
   ]
  },
  {
   "cell_type": "code",
   "execution_count": 5,
   "id": "2ac87c1e",
   "metadata": {},
   "outputs": [
    {
     "name": "stdout",
     "output_type": "stream",
     "text": [
      "[-2477.01469635 -2320.61608919 -2320.60402779 -2320.55199482\n",
      " -2320.53327996 -2320.51572109 -2320.49154222 -2320.48959416\n",
      " -2320.4797982  -2320.45775745 -2320.44110411 -2320.42440667\n",
      " -2320.40265503 -2320.40006757 -2320.39324853 -2320.38779623\n",
      " -2320.35799212 -2320.35389261 -2320.35357674 -2320.35080399\n",
      " -2320.34749842 -2320.32348661 -2320.31740247 -2320.31069299\n",
      " -2320.30030398 -2320.29573341 -2320.289847   -2320.28873733\n",
      " -2320.26777207 -2320.26669831 -2320.25954593 -2320.2579794\n",
      " -2320.23259837 -2320.20266924 -2320.16029168 -2320.15230991\n",
      " -2320.13620714 -2320.12527807 -2320.06190695 -2320.02484332\n",
      " -2319.9993117  -2319.92905562 -2319.82696634 -2319.77846266\n",
      " -2318.89630389 -2314.3297587 ]\n"
     ]
    }
   ],
   "source": [
    "print(np.sort(response))"
   ]
  },
  {
   "cell_type": "code",
   "execution_count": 12,
   "id": "98157d0a",
   "metadata": {},
   "outputs": [],
   "source": [
    "response1 = np.array(response) \n",
    "response1 = response1[response1 > -2400.0]"
   ]
  },
  {
   "cell_type": "code",
   "execution_count": 13,
   "id": "4ff63bdb",
   "metadata": {},
   "outputs": [],
   "source": [
    "path = '../adaptive-simulation-data/eval_4Jan2022'"
   ]
  },
  {
   "cell_type": "code",
   "execution_count": 14,
   "id": "58209fc6",
   "metadata": {},
   "outputs": [
    {
     "name": "stdout",
     "output_type": "stream",
     "text": [
      "../adaptive-simulation-data/eval_4Jan2022/00049455/Run3/OUTCAR\n",
      "['-2328.96629718']\n",
      "../adaptive-simulation-data/eval_4Jan2022/00045059/Run3/OUTCAR\n",
      "['-2329.18045236']\n",
      "../adaptive-simulation-data/eval_4Jan2022/00040381/Run3/OUTCAR\n",
      "['-2329.46674359']\n",
      "../adaptive-simulation-data/eval_4Jan2022/00030148/Run3/OUTCAR\n",
      "['-2325.31934123']\n",
      "../adaptive-simulation-data/eval_4Jan2022/00044836/Run3/OUTCAR\n",
      "['-2329.24754405']\n",
      "../adaptive-simulation-data/eval_4Jan2022/00035094/Run3/OUTCAR\n",
      "['-2324.70047587']\n",
      "../adaptive-simulation-data/eval_4Jan2022/00034779/Run3/OUTCAR\n",
      "['-2324.82228915']\n",
      "../adaptive-simulation-data/eval_4Jan2022/00043862/Run3/OUTCAR\n",
      "['-2329.28299805']\n",
      "../adaptive-simulation-data/eval_4Jan2022/00032801/Run3/OUTCAR\n",
      "['-2324.71784736']\n",
      "../adaptive-simulation-data/eval_4Jan2022/00038106/Run3/OUTCAR\n",
      "['-2324.64569894']\n",
      "../adaptive-simulation-data/eval_4Jan2022/00034558/Run3/OUTCAR\n",
      "['-2324.54777430']\n"
     ]
    }
   ],
   "source": [
    "response2 = []\n",
    "import glob, os\n",
    "#os.chdir(path)\n",
    "for fname in glob.glob(path+\"/*/Run3/OUTCAR\"):\n",
    "    print(fname)\n",
    "    last_match = None\n",
    "    for line in open(fname):\n",
    "        match = re.findall('energy  without entropy=    ([-+]?\\d*\\.\\d+|\\d+)', line)\n",
    "        if match:\n",
    "            last_match = match    \n",
    "    print(last_match)\n",
    "    response2.append(float(last_match[0]))"
   ]
  },
  {
   "cell_type": "code",
   "execution_count": 15,
   "id": "d970a834",
   "metadata": {},
   "outputs": [
    {
     "name": "stdout",
     "output_type": "stream",
     "text": [
      "[-2329.46674359 -2329.28299805 -2329.24754405 -2329.18045236\n",
      " -2328.96629718 -2325.31934123 -2324.82228915 -2324.71784736\n",
      " -2324.70047587 -2324.64569894 -2324.5477743 ]\n"
     ]
    }
   ],
   "source": [
    "print(np.sort(response2))"
   ]
  },
  {
   "cell_type": "code",
   "execution_count": 16,
   "id": "95795487",
   "metadata": {},
   "outputs": [],
   "source": [
    "response2 = np.array(response2)"
   ]
  },
  {
   "cell_type": "code",
   "execution_count": 25,
   "id": "a35ed63d",
   "metadata": {},
   "outputs": [
    {
     "data": {
      "image/png": "[encoded data removed]",
      "text/plain": [
       "<Figure size 576x288 with 1 Axes>"
      ]
     },
     "metadata": {
      "needs_background": "light"
     },
     "output_type": "display_data"
    }
   ],
   "source": [
    "import matplotlib.pyplot as plt\n",
    "plt.figure(figsize=(8,4))\n",
    "plt.plot([x for x in range(len(response1))], response1, 'go',label='First batch')\n",
    "plt.plot([x for x in range(len(response2))], response2, 'bs',label='Second batch')\n",
    "plt.axhline(y=np.min(response0), color='r', linestyle='--',label='Min energy in training data')\n",
    "plt.legend(loc='lower right',prop={'size': 15})\n",
    "plt.xlabel(\"DFT Simulations\", fontsize=15)\n",
    "plt.ylabel(r\"Observed energy values\",fontsize=15)\n",
    "plt.xticks(fontsize=14)\n",
    "plt.yticks(fontsize=14)\n",
    "plt.grid()\n",
    "plt.tight_layout()\n",
    "#plt.axline([0, 0], [1, 1])\n",
    "#plt.savefig('test-ale-uq.png')"
   ]
  },
  {
   "cell_type": "code",
   "execution_count": null,
   "id": "684a86d7",
   "metadata": {},
   "outputs": [],
   "source": []
  },
  {
   "cell_type": "code",
   "execution_count": null,
   "id": "a9b11ae3",
   "metadata": {},
   "outputs": [],
   "source": []
  }
 ],
 "metadata": {
  "kernelspec": {
   "display_name": "Python 3 (ipykernel)",
   "language": "python",
   "name": "python3"
  },
  "language_info": {
   "codemirror_mode": {
    "name": "ipython",
    "version": 3
   },
   "file_extension": ".py",
   "mimetype": "text/x-python",
   "name": "python",
   "nbconvert_exporter": "python",
   "pygments_lexer": "ipython3",
   "version": "3.8.12"
  }
 },
 "nbformat": 4,
 "nbformat_minor": 5
}
